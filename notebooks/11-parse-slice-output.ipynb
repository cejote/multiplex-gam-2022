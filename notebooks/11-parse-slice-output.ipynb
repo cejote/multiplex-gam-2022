{
 "cells": [
  {
   "cell_type": "code",
   "execution_count": 1,
   "metadata": {
    "tags": []
   },
   "outputs": [],
   "source": [
    "from gam_follow_up import config\n",
    "import gamtools.matrix\n",
    "import sys"
   ]
  },
  {
   "cell_type": "code",
   "execution_count": 3,
   "metadata": {
    "tags": []
   },
   "outputs": [],
   "source": [
    "windows = config.in_data_intermediate('40kb_windows.bed')"
   ]
  },
  {
   "cell_type": "code",
   "execution_count": null,
   "metadata": {
    "collapsed": false,
    "jupyter": {
     "outputs_hidden": false
    }
   },
   "outputs": [],
   "source": [
    "input_base = config.in_data_raw('slice-output/new_data/{dataset}/pi/pi_pairs__{chrom}.out')\n",
    "thresh_base = config.in_data_raw('slice-output/new_data/{dataset}/thresholds/0_95_quantile_pi_{chrom}.out')\n",
    "output_base = config.in_data_processed('slice-new-data/{dataset}/{chrom}.csv.gz')\n",
    "\n",
    "for dataset in ['1np', '4np']:\n",
    "    for chrom in ['chr{}'.format(c) for c in range(1,20)]:\n",
    "        print(dataset, chrom)\n",
    "        sys.stdout.flush()\n",
    "        in_mat, thresh_path, out_mat = (fi.format(chrom=chrom, dataset=dataset)\n",
    "                                   for fi in (input_base, thresh_base, output_base))\n",
    "        \n",
    "        chrom_windows = gamtools.matrix.read_windows(windows, chrom)\n",
    "        chrom_thresh = gamtools.matrix.read_thresholds(thresh_path)\n",
    "        \n",
    "        gamtools.matrix.convert(in_mat, 'triangular', out_mat, 'csv.gz', chrom_windows, chrom_thresh)"
   ]
  },
  {
   "cell_type": "code",
   "execution_count": null,
   "metadata": {
    "collapsed": true,
    "jupyter": {
     "outputs_hidden": true
    }
   },
   "outputs": [],
   "source": []
  }
 ],
 "metadata": {
  "kernelspec": {
   "display_name": "Python 3 (ipykernel)",
   "language": "python",
   "name": "python3"
  },
  "language_info": {
   "codemirror_mode": {
    "name": "ipython",
    "version": 3
   },
   "file_extension": ".py",
   "mimetype": "text/x-python",
   "name": "python",
   "nbconvert_exporter": "python",
   "pygments_lexer": "ipython3",
   "version": "3.9.5"
  }
 },
 "nbformat": 4,
 "nbformat_minor": 4
}

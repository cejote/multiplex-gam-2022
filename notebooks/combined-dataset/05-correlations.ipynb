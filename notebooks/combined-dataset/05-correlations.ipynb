{
 "cells": [
  {
   "cell_type": "code",
   "execution_count": 25,
   "metadata": {},
   "outputs": [],
   "source": [
    "import os\n",
    "\n",
    "import numpy as np\n",
    "import pandas as pd\n",
    "from matplotlib import pyplot as plt\n",
    "%matplotlib inline\n",
    "\n",
    "from gamtools import segregation, cosegregation\n",
    "from gam_follow_up import config, utils, correlations\n",
    "from common import plotting"
   ]
  },
  {
   "cell_type": "code",
   "execution_count": 3,
   "metadata": {},
   "outputs": [],
   "source": [
    "seg_1np_40kb = segregation.open_segregation(\n",
    "    config.in_data_raw('1np-gam-data/gamtools_output/segregation_at_40kb.passed_qc.table'))"
   ]
  },
  {
   "cell_type": "code",
   "execution_count": 4,
   "metadata": {},
   "outputs": [],
   "source": [
    "seg_3np_40kb = segregation.open_segregation(\n",
    "    config.in_data_raw('multiplex-gam-data/gamtools_output/segregation_at_40kb.passed_qc.table'))"
   ]
  },
  {
   "cell_type": "code",
   "execution_count": 5,
   "metadata": {
    "collapsed": true,
    "jupyter": {
     "outputs_hidden": true
    }
   },
   "outputs": [],
   "source": [
    "np.random.seed(64448)"
   ]
  },
  {
   "cell_type": "code",
   "execution_count": 6,
   "metadata": {},
   "outputs": [],
   "source": [
    "seg_3np_insilico_40kb = utils.get_merged(seg_1np_40kb, 3)"
   ]
  },
  {
   "cell_type": "code",
   "execution_count": 7,
   "metadata": {
    "collapsed": true,
    "jupyter": {
     "outputs_hidden": true
    }
   },
   "outputs": [],
   "source": [
    "correlation_distances = [(0, None), (0, 100)]"
   ]
  },
  {
   "cell_type": "code",
   "execution_count": 8,
   "metadata": {},
   "outputs": [],
   "source": [
    "def correlate_split_reps(seg_table, distances=[(0, None)], split_n=None, no_reps=5):\n",
    "    corr_out = []\n",
    "\n",
    "    for _ in range(no_reps):\n",
    "\n",
    "        seg_a, seg_b = utils.split_df(seg_table, split_n)\n",
    "\n",
    "        res = correlations.correlate_from_seg_tables(\n",
    "            seg_a, seg_b, distances)\n",
    "\n",
    "        corr_out.append(res)\n",
    "\n",
    "    return np.array(corr_out)"
   ]
  },
  {
   "cell_type": "code",
   "execution_count": 9,
   "metadata": {},
   "outputs": [],
   "source": [
    "corr_80x1_path = config.in_data_intermediate(\n",
    "    'correlations/80x1np.corr.npz')\n",
    "\n",
    "if not os.path.exists(corr_80x1_path):\n",
    "    corr_80x1np = []\n",
    "\n",
    "    for _ in range(5):\n",
    "\n",
    "        seg_80x1np_a, seg_80x1np_b = utils.split_df(seg_1np_40kb, 80)\n",
    "\n",
    "        res = correlations.correlate_from_seg_tables(\n",
    "            seg_80x1np_a, seg_80x1np_b, correlation_distances)\n",
    "\n",
    "        corr_80x1np.append(res)\n",
    "\n",
    "    np.savez_compressed(corr_80x1_path, corrs=np.array(corr_80x1np))\n",
    "\n",
    "corr_80x1np = np.load(corr_80x1_path)['corrs']"
   ]
  },
  {
   "cell_type": "code",
   "execution_count": 10,
   "metadata": {},
   "outputs": [],
   "source": [
    "corr_240x1_path = config.in_data_intermediate(\n",
    "    'correlations/240x1np.corr.npz')\n",
    "\n",
    "if not os.path.exists(corr_240x1_path):\n",
    "    corr_240x1np = []\n",
    "\n",
    "    for _ in range(5):\n",
    "\n",
    "        seg_240x1np_a, seg_240x1np_b = utils.split_df(seg_1np_40kb, 240)\n",
    "\n",
    "        res = correlations.correlate_from_seg_tables(\n",
    "            seg_240x1np_a, seg_240x1np_b, correlation_distances)\n",
    "\n",
    "        corr_240x1np.append(res)\n",
    "\n",
    "    np.savez_compressed(corr_240x1_path, corrs=np.array(corr_240x1np))\n",
    "\n",
    "corr_240x1np = np.load(corr_240x1_path)['corrs']"
   ]
  },
  {
   "cell_type": "code",
   "execution_count": 11,
   "metadata": {},
   "outputs": [],
   "source": [
    "corr_80x3is_path = config.in_data_intermediate(\n",
    "    'correlations/80x3np_insilico.corr.npz')\n",
    "\n",
    "if not os.path.exists(corr_80x3is_path):\n",
    "    corr_80x3_np_insilico = []\n",
    "\n",
    "    for _ in range(5):\n",
    "\n",
    "        seg_80x3np_a, seg_80x3np_b = utils.split_df(seg_3np_insilico_40kb, 80)\n",
    "\n",
    "        res = correlations.correlate_from_seg_tables(\n",
    "            seg_80x3np_a, seg_80x3np_b, correlation_distances)\n",
    "\n",
    "        corr_80x3_np_insilico.append(res)\n",
    "\n",
    "    np.savez_compressed(corr_80x3is_path, corrs=np.array(corr_80x3_np_insilico))\n",
    "\n",
    "corr_80x3_np_insilico = np.load(corr_80x3is_path)['corrs']"
   ]
  },
  {
   "cell_type": "code",
   "execution_count": 12,
   "metadata": {},
   "outputs": [],
   "source": [
    "corr_80x3_path = config.in_data_intermediate(\n",
    "    'correlations/80x3np.corr.npz')\n",
    "\n",
    "if not os.path.exists(corr_80x3_path):\n",
    "    corr_80x3_np = []\n",
    "\n",
    "    for _ in range(5):\n",
    "\n",
    "        seg_80x3np_a, seg_80x3np_b = utils.split_df(seg_3np_40kb, 80)\n",
    "\n",
    "        res = correlations.correlate_from_seg_tables(\n",
    "            seg_80x3np_a, seg_80x3np_b, correlation_distances)\n",
    "\n",
    "        corr_80x3_np.append(res)\n",
    "\n",
    "    np.savez_compressed(corr_80x3_path, corrs=np.array(corr_80x3_np))\n",
    "\n",
    "corr_80x3_np = np.load(corr_80x3_path)['corrs']"
   ]
  },
  {
   "cell_type": "code",
   "execution_count": 13,
   "metadata": {},
   "outputs": [],
   "source": [
    "corr_mixed_path = config.in_data_intermediate(\n",
    "    'correlations/mixed_nps.corr.npz')\n",
    "\n",
    "if not os.path.exists(corr_mixed_path):\n",
    "    corr_mixed_np = []\n",
    "\n",
    "    for _ in range(5):\n",
    "\n",
    "        seg_49x3np_a, seg_49x3np_b = utils.split_df(seg_3np_40kb, 49)\n",
    "        seg_93x1np_a, seg_93x1np_b = utils.split_df(seg_1np_40kb, 93)\n",
    "\n",
    "        seg_mixed_a = pd.concat([seg_93x1np_a, seg_49x3np_a], axis=1)\n",
    "        seg_mixed_b = pd.concat([seg_93x1np_b, seg_49x3np_b], axis=1)\n",
    "\n",
    "        res = correlations.correlate_from_seg_tables(\n",
    "            seg_mixed_a, seg_mixed_b, correlation_distances)\n",
    "\n",
    "        corr_mixed_np.append(res)\n",
    "\n",
    "    np.savez_compressed(corr_mixed_path, corrs=np.array(corr_mixed_np))\n",
    "\n",
    "corr_mixed_np = np.load(corr_mixed_path)['corrs']"
   ]
  },
  {
   "cell_type": "code",
   "execution_count": 43,
   "metadata": {},
   "outputs": [
    {
     "data": {
      "image/png": "[encoded data removed]",
      "text/plain": [
       "<matplotlib.figure.Figure at 0x7fdf992a07d0>"
      ]
     },
     "metadata": {},
     "output_type": "display_data"
    }
   ],
   "source": [
    "plt.figure(figsize=(4, 4))\n",
    "\n",
    "plt.bar(range(3),\n",
    "        [\n",
    "            corr_240x1np[:,1,:].mean(axis=1).mean(),\n",
    "            corr_80x1np[:,1,:].mean(axis=1).mean(),\n",
    "            corr_80x3_np_insilico[:,1,:].mean(axis=1).mean(),\n",
    "        ], width=0.6, color='black')\n",
    "\n",
    "plt.errorbar(np.arange(3)+0.3,\n",
    "            [\n",
    "                corr_240x1np[:,1,:].mean(axis=1).mean(),\n",
    "                corr_80x1np[:,1,:].mean(axis=1).mean(),\n",
    "                corr_80x3_np_insilico[:,1,:].mean(axis=1).mean(),\n",
    "            ],\n",
    "            [\n",
    "                corr_240x1np[:,1,:].mean(axis=1).std(),\n",
    "                corr_80x1np[:,1,:].mean(axis=1).std(),\n",
    "                corr_80x3_np_insilico[:,1,:].mean(axis=1).std(),\n",
    "            ], fmt='none', ecolor='black')\n",
    "\n",
    "plt.xlim(-0.2, 2.8)\n",
    "plt.ylim(0, 0.55)\n",
    "\n",
    "plt.xticks([0.3, 1.3, 2.3], ['240x1', '80x1', '80x3'])\n",
    "plt.xlabel('Number of tubes x NPs per tube')\n",
    "plt.ylabel('Pearson correlation')\n",
    "\n",
    "plotting.simpleaxis()\n",
    "\n",
    "plt.savefig(\n",
    "    config.in_figures('fig-s1/in-silico-tube-num.eps'))"
   ]
  },
  {
   "cell_type": "code",
   "execution_count": 59,
   "metadata": {},
   "outputs": [
    {
     "data": {
      "image/png": "[encoded data removed]",
      "text/plain": [
       "<matplotlib.figure.Figure at 0x7fdf98dcaf50>"
      ]
     },
     "metadata": {},
     "output_type": "display_data"
    }
   ],
   "source": [
    "plt.figure(figsize=(4, 4))\n",
    "\n",
    "plt.bar(range(3),\n",
    "        [\n",
    "            corr_240x1np[:,1,:].mean(axis=1).mean(),\n",
    "            corr_80x3_np[:,1,:].mean(axis=1).mean(),\n",
    "            corr_mixed_np[:,1,:].mean(axis=1).mean(),\n",
    "        ], width=0.6, color='black')\n",
    "\n",
    "plt.errorbar(np.arange(3)+0.3,\n",
    "            [\n",
    "            corr_240x1np[:,1,:].mean(axis=1).mean(),\n",
    "            corr_80x3_np[:,1,:].mean(axis=1).mean(),\n",
    "            corr_mixed_np[:,1,:].mean(axis=1).mean(),\n",
    "            ],\n",
    "            [\n",
    "            corr_240x1np[:,1,:].mean(axis=1).std(),\n",
    "            corr_80x3_np[:,1,:].mean(axis=1).std(),\n",
    "            corr_mixed_np[:,1,:].mean(axis=1).std(),\n",
    "            ], fmt='none', ecolor='black')\n",
    "\n",
    "plt.xlim(-0.2, 2.8)\n",
    "plt.ylim(0, 0.55)\n",
    "\n",
    "plt.xticks([0.3, 1.3, 2.3], ['240x1NP', '80x3NP', 'mixed 1+3 NPs'])\n",
    "plt.xlabel('Number of tubes x NPs per tube')\n",
    "plt.ylabel('Pearson correlation')\n",
    "\n",
    "plotting.simpleaxis()\n",
    "\n",
    "plt.savefig(\n",
    "    config.in_figures('fig-s3/mixing-tubes.eps'))"
   ]
  },
  {
   "cell_type": "code",
   "execution_count": null,
   "metadata": {
    "collapsed": true,
    "jupyter": {
     "outputs_hidden": true
    }
   },
   "outputs": [],
   "source": []
  }
 ],
 "metadata": {
  "kernelspec": {
   "display_name": "Python 3 (ipykernel)",
   "language": "python",
   "name": "python3"
  },
  "language_info": {
   "codemirror_mode": {
    "name": "ipython",
    "version": 3
   },
   "file_extension": ".py",
   "mimetype": "text/x-python",
   "name": "python",
   "nbconvert_exporter": "python",
   "pygments_lexer": "ipython3",
   "version": "3.9.5"
  }
 },
 "nbformat": 4,
 "nbformat_minor": 4
}

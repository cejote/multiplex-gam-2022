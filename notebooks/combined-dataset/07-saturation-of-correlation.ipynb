{
 "cells": [
  {
   "cell_type": "code",
   "execution_count": 1,
   "metadata": {},
   "outputs": [],
   "source": [
    "import sys\n",
    "import os\n",
    "\n",
    "import numpy as np\n",
    "from scipy.stats import pearsonr\n",
    "from matplotlib import pyplot as plt\n",
    "%matplotlib inline\n",
    "\n",
    "from gamtools import segregation, cosegregation, matrix\n",
    "from gam_follow_up import config, correlations\n",
    "from common import plotting"
   ]
  },
  {
   "cell_type": "code",
   "execution_count": 2,
   "metadata": {
    "collapsed": true
   },
   "outputs": [],
   "source": [
    "seg_3np_40kb_path = config.in_data_raw('multiplex-gam-data/gamtools_output/segregation_at_40kb.passed_qc.table')\n",
    "seg_3np_40kb = segregation.open_segregation(seg_3np_40kb_path)"
   ]
  },
  {
   "cell_type": "code",
   "execution_count": 3,
   "metadata": {
    "collapsed": true
   },
   "outputs": [],
   "source": [
    "chroms = ['chr{}'.format(c) for c in range(1,20)]"
   ]
  },
  {
   "cell_type": "code",
   "execution_count": 4,
   "metadata": {
    "collapsed": true
   },
   "outputs": [],
   "source": [
    "def matrix_from_base_path(base_path, chrom):\n",
    "    chrom_path = base_path.format(chrom)\n",
    "    _windows, chrom_matrix = matrix.read_file(chrom_path)\n",
    "    return chrom_matrix\n",
    "\n",
    "def keep_diagonals(in_matrix, diag_from, diag_to=None):\n",
    "    \n",
    "    if diag_to is None:\n",
    "        diag_to = len(in_matrix)\n",
    "        \n",
    "    out_matrix = np.zeros_like(in_matrix) * np.nan\n",
    "    \n",
    "    for d in range(diag_from, diag_to):\n",
    "        indices = matrix.kth_diag_indices(out_matrix, d)\n",
    "        out_matrix[indices] = in_matrix[indices]\n",
    "        \n",
    "    return out_matrix"
   ]
  },
  {
   "cell_type": "code",
   "execution_count": 5,
   "metadata": {
    "collapsed": true
   },
   "outputs": [],
   "source": [
    "def correlate_from_one_seg_table(seg_table, base_path, matrix_regions=[(0, None)]):\n",
    "\n",
    "    out_correlations = [[] for i in matrix_regions]\n",
    "\n",
    "    for chrom in chroms:\n",
    "        \n",
    "        print 'calculating {} ({} samples)'.format(chrom, seg_table.shape[1])\n",
    "        sys.stdout.flush()\n",
    "        \n",
    "        chrom_matrix_1 = cosegregation.get_dprime(seg_table, chrom)\n",
    "\n",
    "        chrom_matrix_2 = matrix_from_base_path(base_path, chrom)\n",
    "\n",
    "        for i, (d_start, d_stop) in enumerate(matrix_regions):\n",
    "\n",
    "            this_corr = correlations.correlate_matrices(\n",
    "                keep_diagonals(chrom_matrix_1, d_start, d_stop),\n",
    "                keep_diagonals(chrom_matrix_2, d_start, d_stop))\n",
    "\n",
    "            out_correlations[i].append(this_corr)\n",
    "            \n",
    "    return out_correlations"
   ]
  },
  {
   "cell_type": "code",
   "execution_count": 6,
   "metadata": {
    "collapsed": true
   },
   "outputs": [],
   "source": [
    "def random_sample_df(input_df, n):\n",
    "    selected_cols = np.random.choice(input_df.columns, n, replace=False)\n",
    "    return input_df[selected_cols]"
   ]
  },
  {
   "cell_type": "code",
   "execution_count": 7,
   "metadata": {
    "collapsed": true
   },
   "outputs": [],
   "source": [
    "matrix_1np_base = config.in_data_processed('contact-matrices/1np/40kb/segregation_at_40kb.passed_qc.{}_dprime.txt.gz')"
   ]
  },
  {
   "cell_type": "code",
   "execution_count": 8,
   "metadata": {},
   "outputs": [],
   "source": [
    "np.random.seed(64448)\n",
    "\n",
    "corr_path = config.in_data_intermediate('correlations/saturation_1np_vs_4np_40kb.npz')\n",
    "\n",
    "if not os.path.exists(corr_path):\n",
    "\n",
    "    close_means = []\n",
    "    \n",
    "    for subsample_n in range(10,250,10):\n",
    "        print('Getting segregation table subset (n={})'.format(subsample_n))\n",
    "        sys.stdout.flush()\n",
    "        rnd_df = random_sample_df(seg_3np_40kb, subsample_n)\n",
    "\n",
    "        close_corr = correlate_from_one_seg_table(rnd_df, matrix_1np_base, [(0, 100)])[0]\n",
    "\n",
    "        print subsample_n, np.mean(close_corr)\n",
    "        close_means.append(close_corr)\n",
    "        \n",
    "    close_means = np.array(close_means)\n",
    "    np.savez(corr_path, close_means)\n",
    "\n",
    "close_means = np.load(corr_path)['arr_0']"
   ]
  },
  {
   "cell_type": "code",
   "execution_count": 14,
   "metadata": {},
   "outputs": [
    {
     "data": {
      "image/png": "[encoded data removed]",
      "text/plain": [
       "<matplotlib.figure.Figure at 0x7f3b4a312350>"
      ]
     },
     "metadata": {},
     "output_type": "display_data"
    }
   ],
   "source": [
    "plt.figure(figsize=(6,5), facecolor='white')\n",
    "plt.rcParams['font.size'] = 14\n",
    "\n",
    "plt.errorbar(range(10,250,10),\n",
    "             np.mean(close_means, axis=1),\n",
    "             yerr=np.std(close_means, axis=1),\n",
    "             color='black', lw=2)\n",
    "\n",
    "plt.ylabel('Pearson correlation')\n",
    "plt.xlabel('No. 4NP samples')\n",
    "plt.ylim(0, 0.7)\n",
    "\n",
    "plotting.simpleaxis()\n",
    "plt.savefig(\n",
    "    config.in_figures('fig-s3/correlation-3nps-v-1np.eps'))"
   ]
  },
  {
   "cell_type": "code",
   "execution_count": null,
   "metadata": {
    "collapsed": true
   },
   "outputs": [],
   "source": []
  }
 ],
 "metadata": {
  "kernelspec": {
   "display_name": "Python 3",
   "language": "python",
   "name": "python3"
  },
  "language_info": {
   "codemirror_mode": {
    "name": "ipython",
    "version": 3
   },
   "file_extension": ".py",
   "mimetype": "text/x-python",
   "name": "python",
   "nbconvert_exporter": "python",
   "pygments_lexer": "ipython3",
   "version": "3.6.9"
  }
 },
 "nbformat": 4,
 "nbformat_minor": 1
}

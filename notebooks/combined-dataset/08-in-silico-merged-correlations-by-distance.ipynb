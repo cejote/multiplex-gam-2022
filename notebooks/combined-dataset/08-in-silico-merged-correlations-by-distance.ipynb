{
 "cells": [
  {
   "cell_type": "code",
   "execution_count": 1,
   "metadata": {},
   "outputs": [
    {
     "name": "stdout",
     "output_type": "stream",
     "text": [
      "Populating the interactive namespace from numpy and matplotlib\n"
     ]
    }
   ],
   "source": [
    "%pylab inline\n",
    "from itertools import izip\n",
    "import os\n",
    "\n",
    "import pandas as pd\n",
    "from scipy.stats import pearsonr\n",
    "from doit.tools import register_doit_as_IPython_magic\n",
    "\n",
    "from gamtools import segregation\n",
    "from gam_follow_up import config, utils, correlations\n",
    "from common import plotting"
   ]
  },
  {
   "cell_type": "code",
   "execution_count": 2,
   "metadata": {
    "collapsed": true
   },
   "outputs": [],
   "source": [
    "np.random.seed(64448)"
   ]
  },
  {
   "cell_type": "code",
   "execution_count": 3,
   "metadata": {},
   "outputs": [],
   "source": [
    "seg_1np_40kb = segregation.open_segregation(\n",
    "    config.in_data_raw('1np-gam-data/gamtools_output/segregation_at_40kb.passed_qc.table'))"
   ]
  },
  {
   "cell_type": "code",
   "execution_count": 4,
   "metadata": {},
   "outputs": [],
   "source": [
    "seg_3np_insilico_40kb = utils.get_merged(seg_1np_40kb, 3)"
   ]
  },
  {
   "cell_type": "code",
   "execution_count": 5,
   "metadata": {
    "collapsed": true
   },
   "outputs": [],
   "source": [
    "regions = [(i, i+2) for i in range(10)]\n",
    "\n",
    "in_silico_corr_path = config.in_data_intermediate(\n",
    "    'correlations/in-silico-corr-original.npz')\n",
    "\n",
    "if not os.path.exists(in_silico_corr_path):\n",
    "    corr_1Mb = correlations.correlate_from_seg_tables(\n",
    "        seg_1np_40kb, seg_3np_insilico_40kb,\n",
    "        [(r1*25, r2*25) for r1, r2 in regions])\n",
    "\n",
    "    np.savez(\n",
    "        in_silico_corr_path,\n",
    "        np.array(corr_1Mb))\n",
    "\n",
    "corr_40kb_by_dist = np.load(in_silico_corr_path)['arr_0']"
   ]
  },
  {
   "cell_type": "code",
   "execution_count": 8,
   "metadata": {},
   "outputs": [
    {
     "data": {
      "image/png": "[encoded data removed]",
      "text/plain": [
       "<matplotlib.figure.Figure at 0x7f3521313790>"
      ]
     },
     "metadata": {},
     "output_type": "display_data"
    }
   ],
   "source": [
    "plt.figure(figsize=(8,6), facecolor='white')\n",
    "rcParams['font.size'] = 14\n",
    "\n",
    "_ = plt.boxplot(corr_40kb_by_dist.T, sym='',\n",
    "                flierprops=dict(color='black'), boxprops=dict(color='black'),\n",
    "                medianprops=dict(color='black'), whiskerprops=dict(color='black'))\n",
    "\n",
    "plt.axvline(3.5, color='red', lw=2, ls='--')\n",
    "\n",
    "plt.ylabel('Pearson Correlation')\n",
    "plt.xticks(range(1,11), ['{}-{}'.format(r1,r2) for r1, r2 in regions])\n",
    "plt.xlabel('Distance (Mb)')\n",
    "plt.ylim(0,1)\n",
    "plotting.simpleaxis()\n",
    "\n",
    "plt.savefig(\n",
    "    config.in_figures('fig-s1/in-silico-merged-corr-by-dist.eps'))"
   ]
  },
  {
   "cell_type": "code",
   "execution_count": 0,
   "metadata": {
    "collapsed": true
   },
   "outputs": [],
   "source": []
  }
 ],
 "metadata": {
  "kernelspec": {
   "display_name": "Python 3",
   "language": "python",
   "name": "python3"
  },
  "language_info": {
   "codemirror_mode": {
    "name": "ipython",
    "version": 3
   },
   "file_extension": ".py",
   "mimetype": "text/x-python",
   "name": "python",
   "nbconvert_exporter": "python",
   "pygments_lexer": "ipython3",
   "version": "3.6.9"
  }
 },
 "nbformat": 4,
 "nbformat_minor": 1
}

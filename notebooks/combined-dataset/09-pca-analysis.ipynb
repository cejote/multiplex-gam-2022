{
 "cells": [
  {
   "cell_type": "code",
   "execution_count": null,
   "id": "f8ffb15c-fc7d-4c33-bb67-7db3a754932b",
   "metadata": {},
   "outputs": [],
   "source": [
    "import matplotlib\n",
    "from gamtools import segregation, matrix\n",
    "import os\n",
    "import pandas as pd\n",
    "import itertools\n",
    "from sqlite3 import OperationalError\n",
    "from mirnylib.numutils import removeDiagonals, observedOverExpected, fillDiagonal, PCA\n",
    "import cPickle\n",
    "from scipy.stats import pearsonr\n",
    "import warnings\n",
    "rcParams['font.size'] = 14"
   ]
  },
  {
   "cell_type": "code",
   "execution_count": null,
   "id": "3ca571bd-dd28-471f-8cb8-c788a6e4255d",
   "metadata": {},
   "outputs": [],
   "source": [
    "def remove_zeros(a):\n",
    "    s = np.nansum(a, axis=0) > 0\n",
    "    b = a[:, s]\n",
    "    c = b[s, :]\n",
    "    return c, s"
   ]
  },
  {
   "cell_type": "code",
   "execution_count": null,
   "id": "7f1bb57f-4c48-4ef8-9230-5aa836f733bb",
   "metadata": {},
   "outputs": [],
   "source": [
    "def replace_zeros_1d(a, s, value=np.NAN):\n",
    "    new_a = np.ones_like(s, dtype=a.dtype) * value\n",
    "    new_a[s] = a\n",
    "    return new_a"
   ]
  },
  {
   "cell_type": "code",
   "execution_count": null,
   "id": "0f110a4c-7ae4-400c-9fc0-a1199bf6d490",
   "metadata": {},
   "outputs": [],
   "source": [
    "def replace_zeros(a, s, value=np.NAN):\n",
    "    N = len(s)\n",
    "    new_a = np.ones((N, N), dtype=a.dtype) * value\n",
    "    tmp = np.ones((N, len(a)), dtype=a.dtype) * value\n",
    "    tmp[s, :] = a\n",
    "    new_a[:, s] = tmp\n",
    "    return new_a"
   ]
  },
  {
   "cell_type": "code",
   "execution_count": null,
   "id": "5b943bfe-4ca0-4d75-a6f0-06b275bf5d4c",
   "metadata": {},
   "outputs": [],
   "source": [
    "def no_na(x, y):\n",
    "    assert len(x) == len(y)\n",
    "    return map(np.array, zip(*[ (x,y) for x,y in zip(x, y) if np.isfinite(x) and np.isfinite(y) ]))"
   ]
  },
  {
   "cell_type": "code",
   "execution_count": null,
   "id": "99ce4beb-ccf7-42fe-aeff-7d14cfde0b47",
   "metadata": {},
   "outputs": [],
   "source": [
    "with open('/data/pombo/rob/gam_figures/mm9_gc_1Mb.pickle', 'r') as gcfile:\n",
    "    gcdict = cPickle.load(gcfile)"
   ]
  },
  {
   "cell_type": "code",
   "execution_count": null,
   "id": "2cef20eb-a23e-4f05-95bd-773ba9ec22cb",
   "metadata": {},
   "outputs": [],
   "source": [
    "def get_obs_over_exp(A):\n",
    "        \n",
    "    removeDiagonals(A, 1)\n",
    "    A, mask = remove_zeros(A)\n",
    "    \n",
    "    M = len(A.flat)\n",
    "    toclip = 100 * min(0.999, (M - 10.) / M)\n",
    "    \n",
    "    A = observedOverExpected(A)\n",
    "    A = np.clip(A, -1e10, np.percentile(A, toclip))\n",
    "    \n",
    "    return A, mask"
   ]
  },
  {
   "cell_type": "code",
   "execution_count": null,
   "id": "e85db347-0761-46fe-8a4b-1b89e9e1d719",
   "metadata": {},
   "outputs": [],
   "source": [
    "def do_PCA(A, n=3):\n",
    "    \n",
    "    with warnings.catch_warnings():\n",
    "        warnings.simplefilter(\"ignore\")\n",
    "        A, mask = get_obs_over_exp(A)\n",
    "    \n",
    "    for i in [-1, 0, 1]:\n",
    "        fillDiagonal(A, 1, i)\n",
    "    \n",
    "    A = np.corrcoef(A)\n",
    "        \n",
    "    PCs = PCA(A, n)[0]\n",
    "                    \n",
    "    return PCs, mask"
   ]
  },
  {
   "cell_type": "code",
   "execution_count": null,
   "id": "1aa39aab-6f73-492d-bfc3-5c316209defc",
   "metadata": {},
   "outputs": [],
   "source": [
    "def get_best_PC_index(pcs, mask, gc_content):\n",
    "    \n",
    "    pcs_out = []\n",
    "    \n",
    "    top_corr = 0\n",
    "    top_index = 0\n",
    "    \n",
    "    for i, pc in enumerate(pcs):\n",
    "                \n",
    "        replaced_pc = replace_zeros_1d(pc, mask)\n",
    "        \n",
    "        corr_this_pc = pearsonr(*no_na(replaced_pc, gc_content))[0]\n",
    "        \n",
    "        if corr_this_pc < 0:\n",
    "            replaced_pc = 0. - replaced_pc\n",
    "            corr_this_pc = abs(corr_this_pc)\n",
    "            \n",
    "        pcs_out.append(replaced_pc)\n",
    "        \n",
    "        if corr_this_pc > top_corr:\n",
    "            top_corr = corr_this_pc\n",
    "            top_index = i\n",
    "                        \n",
    "    return top_index, pcs_out"
   ]
  },
  {
   "cell_type": "code",
   "execution_count": null,
   "id": "e4ef940b-dcc2-44c6-8c59-8c0a646ac9e1",
   "metadata": {},
   "outputs": [],
   "source": [
    "hic_path = '/data/pombo/rob/mESC_1Mb_AfterICE/mESC.afterICE.chr{0}_chr{0}.1000000.my5c.txt'\n",
    "new_gam_path = '/data/pombo/rob/projects/gam-follow-up-paper/data/processed/new_dataset_thrsh20/segregation_at_1Mb.chr{0}_dprime.txt.gz'\n",
    "mesc400_path = '/data/pombo/gam/mesc-400/mm9/1Mb/dprime/chr{0}_chr{0}.1Mb.txt.gz'\n",
    "comb_gam_path = '/data/pombo/rob/projects/gam-follow-up-paper/data/processed/combined_dataset/1Mb/segregation_at_1Mb.chr{0}_dprime.txt.gz'"
   ]
  },
  {
   "cell_type": "code",
   "execution_count": null,
   "id": "ac86b6a9-6e31-4925-a339-1e2c5f441560",
   "metadata": {},
   "outputs": [],
   "source": [
    "def file_open(c, base_path):\n",
    "    (w1, w2), mat = matrix.read_file(base_path.format(c))\n",
    "    return mat\n",
    "\n",
    "def get_windows(c):\n",
    "    (w1, w2), mat = matrix.read_file(gam_path.format(c))\n",
    "    return w1"
   ]
  },
  {
   "cell_type": "code",
   "execution_count": null,
   "id": "4228e375-edb2-4814-8952-dbfcc0f999eb",
   "metadata": {},
   "outputs": [],
   "source": [
    "def get_overlap(x, y):\n",
    "    return float(np.logical_or(np.logical_and(x > 0, y > 0),np.logical_and(x < 0, y < 0)).sum()) / len(x)"
   ]
  },
  {
   "cell_type": "code",
   "execution_count": null,
   "id": "fb78d50b-ed24-4e1c-879b-7eec6c56939f",
   "metadata": {},
   "outputs": [],
   "source": [
    "def do_pca(base_path, n_pc):\n",
    "    pca_per_chrom = []\n",
    "    pca_indices = []\n",
    "    \n",
    "    for c in range(1,20):\n",
    "        \n",
    "        gc_content = gcdict[c-1]\n",
    "    \n",
    "        data = file_open(c, base_path)\n",
    "\n",
    "        pc, mask = do_PCA(data, n_pc)\n",
    "\n",
    "        top_i, pc = get_best_PC_index(pc, mask, gc_content)\n",
    "        \n",
    "        pca_per_chrom.append(pc)\n",
    "\n",
    "        pca_indices.append(top_i)\n",
    "        \n",
    "    return pca_per_chrom, pca_indices"
   ]
  },
  {
   "cell_type": "code",
   "execution_count": null,
   "id": "5fcea4b2-fc0c-4c3d-9c59-264b069895e8",
   "metadata": {},
   "outputs": [],
   "source": [
    "mesc_400_pc = do_pca(mesc400_path, 3)\n",
    "new_gam_pc = do_pca(new_gam_path, 3)\n",
    "combined_gam_pc = do_pca(comb_gam_path, 3)\n",
    "hic_pc = do_pca(hic_path, 3)"
   ]
  },
  {
   "cell_type": "code",
   "execution_count": null,
   "id": "5fbce46f-a828-451f-9c30-8c77dcf8ce91",
   "metadata": {},
   "outputs": [],
   "source": [
    "seg_1mb = segregation.open_segregation(\n",
    "    '/data/pombo/rob/projects/gam-follow-up-paper/data/processed/combined_dataset/1Mb/segregation_at_1Mb.multibam')"
   ]
  },
  {
   "cell_type": "code",
   "execution_count": null,
   "id": "2642781c-2464-45f3-a9c9-c3861a59427f",
   "metadata": {},
   "outputs": [],
   "source": [
    "pca_df = seg_1mb.copy()\n",
    "pca_df['gam_pca'] = np.NaN\n",
    "pca_df['hic_pca'] = np.NaN\n",
    "\n",
    "pca_df = pca_df.iloc[:,-2:]\n",
    "pca_df.head()"
   ]
  },
  {
   "cell_type": "code",
   "execution_count": null,
   "id": "ca903320-55bf-40b3-8398-466b8cfcb51d",
   "metadata": {},
   "outputs": [],
   "source": [
    "for c, (chrom_pc, i) in enumerate(zip(*combined_gam_pc), 1):\n",
    "    chrom = 'chr{}'.format(c)\n",
    "    is_on_chrom = pca_df.index.get_level_values(0) == chrom\n",
    "    print chrom, chrom_pc[i].shape, pca_df.loc[is_on_chrom].shape\n",
    "    pca_df.ix[is_on_chrom, 'gam_pca'] = chrom_pc[i]"
   ]
  },
  {
   "cell_type": "code",
   "execution_count": null,
   "id": "1092026d-7c11-4ea1-af85-66c13e68eff1",
   "metadata": {},
   "outputs": [],
   "source": [
    "for c, (chrom_pc, i) in enumerate(zip(*hic_pc), 1):\n",
    "    chrom = 'chr{}'.format(c)\n",
    "    is_on_chrom = pca_df.index.get_level_values(0) == chrom\n",
    "    print chrom, chrom_pc[i].shape, pca_df.loc[is_on_chrom].shape\n",
    "    pca_df.ix[is_on_chrom, 'hic_pca'] = chrom_pc[i]"
   ]
  },
  {
   "cell_type": "code",
   "execution_count": null,
   "id": "de888453-e378-4a8a-a12c-6178876c6385",
   "metadata": {},
   "outputs": [],
   "source": [
    "pca_df[['gam_pca']].to_csv(\n",
    "    '/data/pombo/rob/projects/gam-follow-up-paper/data/processed/combined_dataset/PCA_at_1mb.bedgraph', sep='\\t')"
   ]
  },
  {
   "cell_type": "code",
   "execution_count": null,
   "id": "8209450e-c706-42be-982d-f98aa8fda3c8",
   "metadata": {},
   "outputs": [],
   "source": [
    "pca_df[['hic_pca']].to_csv(\n",
    "    '/data/pombo/rob/projects/gam-follow-up-paper/data/processed/Dixon_PCA_at_1mb.bedgraph', sep='\\t')\n",
    "\n"
   ]
  },
  {
   "cell_type": "code",
   "execution_count": null,
   "id": "1d418a16-e40f-4e49-a3d8-4ebc518f8ee3",
   "metadata": {},
   "outputs": [],
   "source": [
    "!head head /data/pombo/rob/projects/gam-follow-up-paper/data/processed/combined_dataset/PCA_at_1mb.bedgraph"
   ]
  },
  {
   "cell_type": "code",
   "execution_count": null,
   "id": "7fd3e14e-b9f2-435e-91b4-6f359412a4d1",
   "metadata": {},
   "outputs": [],
   "source": [
    "!head /data/pombo/rob/projects/gam-follow-up-paper/data/processed/Dixon_PCA_at_1mb.bedgraph"
   ]
  },
  {
   "cell_type": "code",
   "execution_count": null,
   "id": "d756f888-ede4-4282-aabb-3a09a9c48012",
   "metadata": {},
   "outputs": [],
   "source": [
    "def neither_nan(x, y):\n",
    "    x_finite = np.isfinite(x)\n",
    "    y_finite = np.isfinite(y)\n",
    "    both_finite = np.logical_and(x_finite, y_finite)\n",
    "    return x[both_finite], y[both_finite]"
   ]
  },
  {
   "cell_type": "code",
   "execution_count": null,
   "id": "840e5b78-ee2a-4d86-bfa8-da60e98164f5",
   "metadata": {},
   "outputs": [],
   "source": [
    "plt.figure(figsize=(10,8), facecolor='white')\n",
    "\n",
    "x = np.concatenate([chrom_pc[i] for chrom_pc, i in zip(*mesc_400_pc)])\n",
    "y = np.concatenate([chrom_pc[i] for chrom_pc, i in zip(*hic_pc)])\n",
    "x, y = neither_nan(x,y) \n",
    "plt.hexbin(x, y, gridsize=20)\n",
    "sm = np.logical_or(np.logical_and(x > np.median(x), y > 0),np.logical_and(x < 0, y < 0)).sum()\n",
    "print 'Total 1Mb bins: {0}'.format(len(x))\n",
    "print '1Mb bins with same compartment in both mESC-400 and Dixon Hi-X data: {0}'.format(sm)\n",
    "print '% 1Mb bins with shared compartment: {0:.1%}'.format(float(sm) / len(x))\n",
    "print 'Pearson corr = {}'.format(pearsonr(x, y)[0])\n",
    "print pd.crosstab((x>0),(y>0))\n",
    "\n",
    "plt.xlabel('mESC-400 PCA')\n",
    "plt.ylabel('Dixon Hi-C PCA')"
   ]
  },
  {
   "cell_type": "code",
   "execution_count": null,
   "id": "ca85bc0a-85b9-4d04-8402-38a3c2fbd445",
   "metadata": {},
   "outputs": [],
   "source": [
    "plt.figure(figsize=(10,8), facecolor='white')\n",
    "\n",
    "x = np.concatenate([chrom_pc[i] for chrom_pc, i in zip(*mesc_400_pc)])\n",
    "y = np.concatenate([chrom_pc[i] for chrom_pc, i in zip(*new_gam_pc)])\n",
    "x, y = neither_nan(x,y) \n",
    "plt.hexbin(x, y, gridsize=20)\n",
    "sm = np.logical_or(np.logical_and(x > 0, y > 0),np.logical_and(x < 0, y < 0)).sum()\n",
    "print 'Total 1Mb bins: {0}'.format(len(x))\n",
    "print '1Mb bins with same compartment in both mESC-400 and new GAM data: {0}'.format(sm)\n",
    "print '% 1Mb bins with shared compartment: {0:.1%}'.format(float(sm) / len(x))\n",
    "print 'Pearson corr = {}'.format(pearsonr(x, y)[0])\n",
    "print pd.crosstab((x>0),(y>0))\n",
    "\n",
    "plt.xlabel('400x1NPs (mESC-400)')\n",
    "plt.ylabel('150x4NPs')\n"
   ]
  },
  {
   "cell_type": "code",
   "execution_count": null,
   "id": "714f3bbb-3b2b-4a94-948e-f352072bfbb2",
   "metadata": {},
   "outputs": [],
   "source": [
    "x = np.concatenate([chrom_pc[i] for chrom_pc, i in zip(*new_gam_pc)])\n",
    "y = np.concatenate([chrom_pc[i] for chrom_pc, i in zip(*hic_pc)])\n",
    "x, y = neither_nan(x,y) \n",
    "plt.hexbin(x, y, gridsize=20)\n",
    "sm = np.logical_or(np.logical_and(x > np.median(x), y > 0),np.logical_and(x < 0, y < 0)).sum()\n",
    "print 'Total 1Mb bins: {0}'.format(len(x))\n",
    "print '1Mb bins with same compartment in both Dixon Hi-C and new GAM data: {0}'.format(sm)\n",
    "print '% 1Mb bins with shared compartment: {0:.1%}'.format(float(sm) / len(x))\n",
    "print 'Pearson corr = {}'.format(pearsonr(x, y)[0])\n",
    "print pd.crosstab((x>0),(y>0))"
   ]
  },
  {
   "cell_type": "code",
   "execution_count": null,
   "id": "6fd926e5-0a5a-42e2-b957-630b0b060585",
   "metadata": {},
   "outputs": [],
   "source": [
    "plt.figure(figsize=(10,8), facecolor='white')\n",
    "\n",
    "x = np.concatenate([chrom_pc[i] for chrom_pc, i in zip(*combined_gam_pc)])\n",
    "y = np.concatenate([chrom_pc[i] for chrom_pc, i in zip(*hic_pc)])\n",
    "x, y = neither_nan(x,y) \n",
    "plt.hexbin(x, y, gridsize=20)\n",
    "sm = np.logical_or(np.logical_and(x > 0, y > 0),np.logical_and(x < 0, y < 0)).sum()\n",
    "print 'Total 1Mb bins: {0}'.format(len(x))\n",
    "print '1Mb bins with same compartment in both Dixon-HiC and combined GAM data: {0}'.format(sm)\n",
    "print '% 1Mb bins with shared compartment: {0:.1%}'.format(float(sm) / len(x))\n",
    "print 'Pearson corr = {}'.format(pearsonr(x, y)[0])\n",
    "print 'median x:', np.median(x)\n",
    "print pd.crosstab((x>0),(y>0))\n",
    "\n",
    "plt.xlabel('Combined GAM PCA')\n",
    "plt.ylabel('Dixon Hi-C PCA')"
   ]
  },
  {
   "cell_type": "code",
   "execution_count": null,
   "id": "b13baeda-25ee-488f-add1-3c6f19185cc7",
   "metadata": {},
   "outputs": [],
   "source": [
    "plt.hist(x, bins=30)"
   ]
  }
 ],
 "metadata": {
  "kernelspec": {
   "display_name": "Python 3 (ipykernel)",
   "language": "python",
   "name": "python3"
  },
  "language_info": {
   "codemirror_mode": {
    "name": "ipython",
    "version": 3
   },
   "file_extension": ".py",
   "mimetype": "text/x-python",
   "name": "python",
   "nbconvert_exporter": "python",
   "pygments_lexer": "ipython3",
   "version": "3.9.5"
  }
 },
 "nbformat": 4,
 "nbformat_minor": 5
}

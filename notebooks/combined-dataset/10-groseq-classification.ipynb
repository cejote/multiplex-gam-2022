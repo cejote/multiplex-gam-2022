{
 "cells": [
  {
   "cell_type": "code",
   "execution_count": 32,
   "metadata": {
    "collapsed": true
   },
   "outputs": [],
   "source": [
    "import pandas as pd\n",
    "from matplotlib import pyplot as plt\n",
    "%matplotlib inline\n",
    "import numpy as np"
   ]
  },
  {
   "cell_type": "code",
   "execution_count": 10,
   "metadata": {
    "collapsed": true
   },
   "outputs": [],
   "source": [
    "groseq_pos = '/data/pombo/rob/30kb_epigenetics/gro-seq.pos.bw'\n",
    "groseq_neg = '/data/pombo/rob/30kb_epigenetics/gro-seq.neg.bw'\n",
    "bin_locs = '/data/pombo/rob/projects/gam-follow-up-paper/data/raw/40kb_windows_named.bed'"
   ]
  },
  {
   "cell_type": "code",
   "execution_count": 9,
   "metadata": {
    "collapsed": false
   },
   "outputs": [],
   "source": [
    "!cat /data/pombo/rob/projects/gam-follow-up-paper/data/raw/40kb_windows.txt | awk '{print $0\"\\twindow_\"NR}' > /data/pombo/rob/projects/gam-follow-up-paper/data/raw/40kb_windows_named.bed"
   ]
  },
  {
   "cell_type": "code",
   "execution_count": 11,
   "metadata": {
    "collapsed": false
   },
   "outputs": [
    {
     "name": "stdout",
     "output_type": "stream",
     "text": [
      "processing chromosomes......................\n"
     ]
    }
   ],
   "source": [
    "!/home/rbeagrie/bin/bigWigAverageOverBed {groseq_pos} {bin_locs} groseq_pos_40kb.bed"
   ]
  },
  {
   "cell_type": "code",
   "execution_count": 12,
   "metadata": {
    "collapsed": false
   },
   "outputs": [
    {
     "name": "stdout",
     "output_type": "stream",
     "text": [
      "processing chromosomes......................\n"
     ]
    }
   ],
   "source": [
    "!/home/rbeagrie/bin/bigWigAverageOverBed {groseq_neg} {bin_locs} groseq_neg_40kb.bed"
   ]
  },
  {
   "cell_type": "code",
   "execution_count": 27,
   "metadata": {
    "collapsed": false
   },
   "outputs": [],
   "source": [
    "groseq_vals = pd.merge(\n",
    "\n",
    "    pd.read_csv(bin_locs, sep='\\t', names=['chrom', 'start', 'stop', 'window_id'], index_col=3),\n",
    "    \n",
    "    pd.merge(\n",
    "\n",
    "        pd.read_csv('groseq_pos_40kb.bed', sep='\\t', index_col=0,\n",
    "                    names=['window_id', 'len', 'covered', 'sum', 'pos_mean0', 'mean']\n",
    "                   )[['pos_mean0']],\n",
    "\n",
    "        pd.read_csv('groseq_neg_40kb.bed', sep='\\t', index_col=0,\n",
    "                    names=['window_id', 'len', 'covered', 'sum', 'neg_mean0', 'mean']\n",
    "                   )[['neg_mean0']],\n",
    "        left_index=True, right_index=True),\n",
    "    \n",
    "    left_index=True, right_index=True)"
   ]
  },
  {
   "cell_type": "code",
   "execution_count": 31,
   "metadata": {
    "collapsed": false
   },
   "outputs": [
    {
     "data": {
      "text/plain": [
       "0.00020000000000000001"
      ]
     },
     "execution_count": 31,
     "metadata": {},
     "output_type": "execute_result"
    }
   ],
   "source": [
    "min(groseq_vals.pos_mean0[groseq_vals.pos_mean0 != 0])"
   ]
  },
  {
   "cell_type": "code",
   "execution_count": 33,
   "metadata": {
    "collapsed": false
   },
   "outputs": [
    {
     "data": {
      "text/plain": [
       "<matplotlib.collections.PathCollection at 0x7f37e0ca4f10>"
      ]
     },
     "execution_count": 33,
     "metadata": {},
     "output_type": "execute_result"
    },
    {
     "data": {
      "image/png": "[encoded data removed]",
      "text/plain": [
       "<matplotlib.figure.Figure at 0x7f37e3374a50>"
      ]
     },
     "metadata": {},
     "output_type": "display_data"
    }
   ],
   "source": [
    "plt.scatter(np.log10(groseq_vals.pos_mean0 + 0.0001), np.log10((-groseq_vals.neg_mean0) + 0.0001))"
   ]
  },
  {
   "cell_type": "code",
   "execution_count": 42,
   "metadata": {
    "collapsed": false
   },
   "outputs": [],
   "source": [
    "groseq_vals['groseq_sum'] = groseq_vals.pos_mean0 - groseq_vals.neg_mean0"
   ]
  },
  {
   "cell_type": "code",
   "execution_count": 53,
   "metadata": {
    "collapsed": false
   },
   "outputs": [
    {
     "data": {
      "text/plain": [
       "array([  1.00000000e-04,   1.00000000e-03,   1.00000000e-02,\n",
       "         1.00000000e-01,   1.00000000e+00,   1.00000000e+01])"
      ]
     },
     "execution_count": 53,
     "metadata": {},
     "output_type": "execute_result"
    }
   ],
   "source": []
  },
  {
   "cell_type": "code",
   "execution_count": 55,
   "metadata": {
    "collapsed": false
   },
   "outputs": [
    {
     "data": {
      "text/plain": [
       "([<matplotlib.axis.XTick at 0x7f37d9a91810>,\n",
       "  <matplotlib.axis.XTick at 0x7f379c99da10>,\n",
       "  <matplotlib.axis.XTick at 0x7f379c8c2fd0>,\n",
       "  <matplotlib.axis.XTick at 0x7f37dbc98d50>,\n",
       "  <matplotlib.axis.XTick at 0x7f37dbc854d0>,\n",
       "  <matplotlib.axis.XTick at 0x7f37dbc85c10>],\n",
       " <a list of 6 Text xticklabel objects>)"
      ]
     },
     "execution_count": 55,
     "metadata": {},
     "output_type": "execute_result"
    },
    {
     "data": {
      "image/png": "[encoded data removed]",
      "text/plain": [
       "<matplotlib.figure.Figure at 0x7f379c9e3190>"
      ]
     },
     "metadata": {},
     "output_type": "display_data"
    }
   ],
   "source": [
    "plt.rcParams['font.size'] = 14\n",
    "plt.figure(figsize=(10,7))\n",
    "_ = plt.hist(np.log10(groseq_vals.groseq_sum + 0.0001), bins=50, range=(-4,1))\n",
    "plt.ylabel('Number of 40kb windows')\n",
    "plt.xlabel('Mean GRO-seq signal')\n",
    "plt.xticks(range(-4,2), 10**np.arange(-4.,2.))"
   ]
  },
  {
   "cell_type": "code",
   "execution_count": 47,
   "metadata": {
    "collapsed": false
   },
   "outputs": [],
   "source": [
    "groseq_vals[['chrom', 'start', 'stop', 'groseq_sum']].to_csv('/data/pombo/rob/projects/gam-follow-up-paper/data/intermediate/genomic-features/groseq.40kb_windows.bed', sep='\\t', header=False, index=False)"
   ]
  },
  {
   "cell_type": "code",
   "execution_count": 48,
   "metadata": {
    "collapsed": false
   },
   "outputs": [
    {
     "name": "stdout",
     "output_type": "stream",
     "text": [
      "chr1\t0\t40000\t0.0\r\n",
      "chr1\t40000\t80000\t0.0\r\n",
      "chr1\t80000\t120000\t0.0\r\n",
      "chr1\t120000\t160000\t0.0\r\n",
      "chr1\t160000\t200000\t0.0\r\n",
      "chr1\t200000\t240000\t0.0\r\n",
      "chr1\t240000\t280000\t0.0\r\n",
      "chr1\t280000\t320000\t0.0\r\n",
      "chr1\t320000\t360000\t0.0\r\n",
      "chr1\t360000\t400000\t0.0\r\n"
     ]
    }
   ],
   "source": [
    "!head /data/pombo/rob/projects/gam-follow-up-paper/data/intermediate/genomic-features/groseq.40kb_windows.bed"
   ]
  },
  {
   "cell_type": "code",
   "execution_count": null,
   "metadata": {
    "collapsed": true
   },
   "outputs": [],
   "source": []
  }
 ],
 "metadata": {
  "kernelspec": {
   "display_name": "Python 2",
   "language": "python",
   "name": "python2"
  },
  "language_info": {
   "codemirror_mode": {
    "name": "ipython",
    "version": 2
   },
   "file_extension": ".py",
   "mimetype": "text/x-python",
   "name": "python",
   "nbconvert_exporter": "python",
   "pygments_lexer": "ipython2",
   "version": "2.7.10"
  }
 },
 "nbformat": 4,
 "nbformat_minor": 0
}
